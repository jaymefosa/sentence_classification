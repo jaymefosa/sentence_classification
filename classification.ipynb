{
 "cells": [
  {
   "cell_type": "markdown",
   "metadata": {},
   "source": [
    "# Sentence Classification\n",
    "\n",
    "## This notebook walks through the steps in creating a sentence classifier \n",
    "\n",
    "### 1. Data preparation\n",
    "### 2. Feature generation\n",
    "### 3. Model building\n",
    "### 4. Training\n",
    "### 5. Results"
   ]
  },
  {
   "cell_type": "markdown",
   "metadata": {},
   "source": [
    "# First we get some important libraries"
   ]
  },
  {
   "cell_type": "code",
   "execution_count": 2,
   "metadata": {},
   "outputs": [],
   "source": [
    "### First we import the needed libraries\n",
    "import os\n",
    "import sys\n",
    "import pandas as pd\n",
    "import numpy as np\n",
    "import json\n",
    "import pickle\n",
    "\n",
    "import re\n",
    "\n",
    "from sklearn import metrics\n",
    "np.random.seed(123)\n"
   ]
  },
  {
   "cell_type": "markdown",
   "metadata": {},
   "source": [
    "## The following are the neural network libraries"
   ]
  },
  {
   "cell_type": "code",
   "execution_count": null,
   "metadata": {
    "collapsed": true
   },
   "outputs": [],
   "source": [
    "from keras.preprocessing.text import Tokenizer\n",
    "from keras.preprocessing.sequence import pad_sequences\n",
    "from keras.utils import to_categorical\n",
    "from keras.layers import Dense, Input, Flatten, Merge, Reshape, Concatenate\n",
    "from keras.layers import Conv2D, Conv1D, MaxPooling1D, MaxPooling2D, Embedding, LSTM, Dropout, BatchNormalization\n",
    "from keras.models import Model, Sequential"
   ]
  },
  {
   "cell_type": "markdown",
   "metadata": {},
   "source": [
    "## 1. Data preparation\n",
    "### We load the raw data"
   ]
  },
  {
   "cell_type": "code",
   "execution_count": 3,
   "metadata": {
    "collapsed": true
   },
   "outputs": [],
   "source": [
    "sentences = pd.read_json(\"coded_sentences.json\",orient='values')\n",
    "sentences = sentences.drop_duplicates(subset=1, inplace=False)"
   ]
  },
  {
   "cell_type": "markdown",
   "metadata": {},
   "source": [
    "### Here is what it looks like"
   ]
  },
  {
   "cell_type": "code",
   "execution_count": 4,
   "metadata": {},
   "outputs": [
    {
     "data": {
      "text/html": [
       "<div>\n",
       "<style>\n",
       "    .dataframe thead tr:only-child th {\n",
       "        text-align: right;\n",
       "    }\n",
       "\n",
       "    .dataframe thead th {\n",
       "        text-align: left;\n",
       "    }\n",
       "\n",
       "    .dataframe tbody tr th {\n",
       "        vertical-align: top;\n",
       "    }\n",
       "</style>\n",
       "<table border=\"1\" class=\"dataframe\">\n",
       "  <thead>\n",
       "    <tr style=\"text-align: right;\">\n",
       "      <th></th>\n",
       "      <th>0</th>\n",
       "      <th>1</th>\n",
       "      <th>2</th>\n",
       "      <th>3</th>\n",
       "      <th>4</th>\n",
       "    </tr>\n",
       "  </thead>\n",
       "  <tbody>\n",
       "    <tr>\n",
       "      <th>0</th>\n",
       "      <td>200200342348</td>\n",
       "      <td>Pakistan TV Show: PTI Leader Says MQM Assured ...</td>\n",
       "      <td>0</td>\n",
       "      <td>0</td>\n",
       "      <td>171</td>\n",
       "    </tr>\n",
       "    <tr>\n",
       "      <th>1</th>\n",
       "      <td>200200342348</td>\n",
       "      <td>Karachi Geo News television in Urdu at 1505 GM...</td>\n",
       "      <td>0</td>\n",
       "      <td>179</td>\n",
       "      <td>316</td>\n",
       "    </tr>\n",
       "    <tr>\n",
       "      <th>2</th>\n",
       "      <td>200200342348</td>\n",
       "      <td>Prominent Pakistani journalist Talat Hussain i...</td>\n",
       "      <td>0</td>\n",
       "      <td>317</td>\n",
       "      <td>385</td>\n",
       "    </tr>\n",
       "    <tr>\n",
       "      <th>3</th>\n",
       "      <td>200200342348</td>\n",
       "      <td>Guests:        Farooq Sattar, leader of Muttah...</td>\n",
       "      <td>0</td>\n",
       "      <td>393</td>\n",
       "      <td>750</td>\n",
       "    </tr>\n",
       "    <tr>\n",
       "      <th>4</th>\n",
       "      <td>200200342348</td>\n",
       "      <td>Arif Alvi, member of the National Assembly fro...</td>\n",
       "      <td>0</td>\n",
       "      <td>751</td>\n",
       "      <td>1017</td>\n",
       "    </tr>\n",
       "  </tbody>\n",
       "</table>\n",
       "</div>"
      ],
      "text/plain": [
       "              0                                                  1  2    3  \\\n",
       "0  200200342348  Pakistan TV Show: PTI Leader Says MQM Assured ...  0    0   \n",
       "1  200200342348  Karachi Geo News television in Urdu at 1505 GM...  0  179   \n",
       "2  200200342348  Prominent Pakistani journalist Talat Hussain i...  0  317   \n",
       "3  200200342348  Guests:        Farooq Sattar, leader of Muttah...  0  393   \n",
       "4  200200342348  Arif Alvi, member of the National Assembly fro...  0  751   \n",
       "\n",
       "      4  \n",
       "0   171  \n",
       "1   316  \n",
       "2   385  \n",
       "3   750  \n",
       "4  1017  "
      ]
     },
     "execution_count": 4,
     "metadata": {},
     "output_type": "execute_result"
    }
   ],
   "source": [
    "sentences.head()"
   ]
  },
  {
   "cell_type": "markdown",
   "metadata": {},
   "source": [
    "### Columns 1 and 2 are the most important. \n",
    "### Column 2 is the label, either 0 or 1, for a positive or negative example\n",
    "\n",
    "## Next we clean up the data"
   ]
  }
 ],
 "metadata": {
  "kernelspec": {
   "display_name": "Python 3",
   "language": "python",
   "name": "python3"
  },
  "language_info": {
   "codemirror_mode": {
    "name": "ipython",
    "version": 3
   },
   "file_extension": ".py",
   "mimetype": "text/x-python",
   "name": "python",
   "nbconvert_exporter": "python",
   "pygments_lexer": "ipython3",
   "version": "3.5.3"
  }
 },
 "nbformat": 4,
 "nbformat_minor": 2
}
